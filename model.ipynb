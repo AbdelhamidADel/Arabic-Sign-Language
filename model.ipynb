{
 "cells": [
  {
   "cell_type": "code",
   "execution_count": 4,
   "id": "2cecf72c",
   "metadata": {},
   "outputs": [],
   "source": [
    "import os\n",
    "import numpy as np # linear algebra\n",
    "import pandas as pd # data processing, CSV file I/O (e.g. pd.read_csv)\n",
    "import random # Generate pseudo-random numbers\n",
    "from random import randint\n",
    "from sklearn.utils import shuffle # Shuffle arrays or sparse matrices in a consistent way\n",
    "from sklearn.model_selection import train_test_split # Split arrays or matrices into random train and test subsets\n",
    "from sklearn.metrics import classification_report, confusion_matrix\n",
    "import sklearn\n",
    "import tensorflow as tf\n",
    "import matplotlib.pyplot as plt\n",
    "import seaborn as sns\n",
    "\n",
    "import arabic_reshaper # Reconstruct Arabic sentences to be used in applications that don't support Arabic\n",
    "from bidi.algorithm import get_display\n",
    "from PIL import Image\n",
    "\n",
    "import warnings \n",
    "warnings.filterwarnings(\"ignore\")"
   ]
  },
  {
   "cell_type": "code",
   "execution_count": 6,
   "id": "e87d27c1",
   "metadata": {},
   "outputs": [],
   "source": [
    "Language = \"Ar\"\n",
    "ImageClassMapping_path = \"Labels/ImagesClassPath.csv\"\n",
    "ClassLabels_path = \"Labels/ClassLabels.xlsx\"\n",
    "ImagesRoot_path = \"C:/Users/abdel/Arabic Sign Language/\"\n",
    "ModelFileName ='Model_255.h5'"
   ]
  },
  {
   "cell_type": "code",
   "execution_count": 7,
   "id": "8e080744",
   "metadata": {},
   "outputs": [
    {
     "data": {
      "text/html": [
       "<div>\n",
       "<style scoped>\n",
       "    .dataframe tbody tr th:only-of-type {\n",
       "        vertical-align: middle;\n",
       "    }\n",
       "\n",
       "    .dataframe tbody tr th {\n",
       "        vertical-align: top;\n",
       "    }\n",
       "\n",
       "    .dataframe thead th {\n",
       "        text-align: right;\n",
       "    }\n",
       "</style>\n",
       "<table border=\"1\" class=\"dataframe\">\n",
       "  <thead>\n",
       "    <tr style=\"text-align: right;\">\n",
       "      <th></th>\n",
       "      <th>id</th>\n",
       "      <th>ClassId</th>\n",
       "      <th>ImagePath</th>\n",
       "    </tr>\n",
       "  </thead>\n",
       "  <tbody>\n",
       "    <tr>\n",
       "      <th>0</th>\n",
       "      <td>1</td>\n",
       "      <td>0</td>\n",
       "      <td>ArASL_Database_54K/ain/AIN (1).JPG</td>\n",
       "    </tr>\n",
       "    <tr>\n",
       "      <th>1</th>\n",
       "      <td>2</td>\n",
       "      <td>0</td>\n",
       "      <td>ArASL_Database_54K/ain/AIN (10).JPG</td>\n",
       "    </tr>\n",
       "    <tr>\n",
       "      <th>2</th>\n",
       "      <td>3</td>\n",
       "      <td>0</td>\n",
       "      <td>ArASL_Database_54K/ain/AIN (100).jpg</td>\n",
       "    </tr>\n",
       "    <tr>\n",
       "      <th>3</th>\n",
       "      <td>4</td>\n",
       "      <td>0</td>\n",
       "      <td>ArASL_Database_54K/ain/AIN (1000).JPG</td>\n",
       "    </tr>\n",
       "    <tr>\n",
       "      <th>4</th>\n",
       "      <td>5</td>\n",
       "      <td>0</td>\n",
       "      <td>ArASL_Database_54K/ain/AIN (1001).JPG</td>\n",
       "    </tr>\n",
       "  </tbody>\n",
       "</table>\n",
       "</div>"
      ],
      "text/plain": [
       "   id  ClassId                              ImagePath\n",
       "0   1        0     ArASL_Database_54K/ain/AIN (1).JPG\n",
       "1   2        0    ArASL_Database_54K/ain/AIN (10).JPG\n",
       "2   3        0   ArASL_Database_54K/ain/AIN (100).jpg\n",
       "3   4        0  ArASL_Database_54K/ain/AIN (1000).JPG\n",
       "4   5        0  ArASL_Database_54K/ain/AIN (1001).JPG"
      ]
     },
     "metadata": {},
     "output_type": "display_data"
    }
   ],
   "source": [
    "df_ImageClassPath = pd.read_csv(ImageClassMapping_path)\n",
    "display(df_ImageClassPath.head())"
   ]
  },
  {
   "cell_type": "code",
   "execution_count": 65,
   "id": "2ee2af2a",
   "metadata": {},
   "outputs": [
    {
     "data": {
      "text/html": [
       "<div>\n",
       "<style scoped>\n",
       "    .dataframe tbody tr th:only-of-type {\n",
       "        vertical-align: middle;\n",
       "    }\n",
       "\n",
       "    .dataframe tbody tr th {\n",
       "        vertical-align: top;\n",
       "    }\n",
       "\n",
       "    .dataframe thead th {\n",
       "        text-align: right;\n",
       "    }\n",
       "</style>\n",
       "<table border=\"1\" class=\"dataframe\">\n",
       "  <thead>\n",
       "    <tr style=\"text-align: right;\">\n",
       "      <th></th>\n",
       "      <th>Class</th>\n",
       "      <th>ClassAr</th>\n",
       "    </tr>\n",
       "    <tr>\n",
       "      <th>ClassId</th>\n",
       "      <th></th>\n",
       "      <th></th>\n",
       "    </tr>\n",
       "  </thead>\n",
       "  <tbody>\n",
       "    <tr>\n",
       "      <th>0</th>\n",
       "      <td>ain</td>\n",
       "      <td>عين</td>\n",
       "    </tr>\n",
       "    <tr>\n",
       "      <th>1</th>\n",
       "      <td>al</td>\n",
       "      <td>ال</td>\n",
       "    </tr>\n",
       "    <tr>\n",
       "      <th>2</th>\n",
       "      <td>aleff</td>\n",
       "      <td>الف</td>\n",
       "    </tr>\n",
       "    <tr>\n",
       "      <th>3</th>\n",
       "      <td>bb</td>\n",
       "      <td>باء</td>\n",
       "    </tr>\n",
       "    <tr>\n",
       "      <th>4</th>\n",
       "      <td>dal</td>\n",
       "      <td>دال</td>\n",
       "    </tr>\n",
       "  </tbody>\n",
       "</table>\n",
       "</div>"
      ],
      "text/plain": [
       "         Class ClassAr\n",
       "ClassId               \n",
       "0          ain     عين\n",
       "1           al      ال\n",
       "2        aleff     الف\n",
       "3           bb     باء\n",
       "4          dal     دال"
      ]
     },
     "metadata": {},
     "output_type": "display_data"
    }
   ],
   "source": [
    "# load Class Labels\n",
    "df_Classes = pd.read_excel(ClassLabels_path,index_col=0)\n",
    "display(df_Classes.head())"
   ]
  },
  {
   "cell_type": "code",
   "execution_count": 5,
   "id": "7ba2aee6",
   "metadata": {},
   "outputs": [
    {
     "data": {
      "text/plain": [
       "count      32.000000\n",
       "mean     1689.031250\n",
       "std       187.343825\n",
       "min      1293.000000\n",
       "25%      1589.500000\n",
       "50%      1713.500000\n",
       "75%      1797.250000\n",
       "max      2114.000000\n",
       "dtype: float64"
      ]
     },
     "execution_count": 5,
     "metadata": {},
     "output_type": "execute_result"
    }
   ],
   "source": [
    "df_ImageClassPath.groupby(\"ClassId\").size().describe()"
   ]
  },
  {
   "cell_type": "code",
   "execution_count": 6,
   "id": "28de5f78",
   "metadata": {},
   "outputs": [
    {
     "data": {
      "image/png": "[encoded data removed]",
      "text/plain": [
       "<Figure size 640x480 with 1 Axes>"
      ]
     },
     "metadata": {},
     "output_type": "display_data"
    }
   ],
   "source": [
    "ddata = {\"samples destribution\":df_ImageClassPath.groupby(\"ClassId\").size()}\n",
    "iindex = range(32)\n",
    "\n",
    "ddataframe = pd.DataFrame(data=ddata, index= iindex)\n",
    "ddataframe.plot.bar(stacked= True, rot=90, title='samples destribution')\n",
    "plt.show(block= True)"
   ]
  },
  {
   "cell_type": "code",
   "execution_count": 7,
   "id": "4d7da9d0",
   "metadata": {},
   "outputs": [],
   "source": [
    "# Split 54K Images into 3 groups of Fixed Prediction, training and test\n",
    "# the dataset is 32 class,split is maintaind as per class \n",
    "def SplitData(predictions,testsize):\n",
    "    \n",
    "    min = df_ImageClassPath.groupby(\"ClassId\").size().min()\n",
    "    print('{0} Samples per Class'.format(min))\n",
    "    \n",
    "    # empty dataframes with same column difinition\n",
    "    df_TrainingSet = df_ImageClassPath[0:0].copy()\n",
    "    df_TestSet = df_ImageClassPath[0:0].copy()\n",
    "    df_PredSet = df_ImageClassPath[0:0].copy()\n",
    "\n",
    "    # Create the sets by loop thru classes and append\n",
    "    for index,row in df_Classes.iterrows():\n",
    "        # make sure all class are same size \n",
    "        df_FullSet = df_ImageClassPath[df_ImageClassPath['ClassId'] == row['ClassId']].sample(min,random_state= 42)\n",
    "        \n",
    "#         df_FullSet = df_ImageClassPath[df_ImageClassPath['ClassId'] == row['ClassId']]\n",
    "        \n",
    "        df_PredSet = df_PredSet.append(df_FullSet.sample(n=predictions, random_state=1))\n",
    "        df_FullSet = pd.merge(df_FullSet,df_PredSet, indicator=True, \n",
    "                              how='left').query('_merge==\"left_only\"').drop('_merge', axis=1)\n",
    "        \n",
    "        trainingSet, testSet = train_test_split(df_FullSet, test_size= testsize)        \n",
    "        \n",
    "        df_TrainingSet = df_TrainingSet.append(trainingSet)\n",
    "        df_TestSet = df_TestSet.append(testSet)\n",
    "    \n",
    "    return df_TrainingSet,df_TestSet,df_PredSet"
   ]
  },
  {
   "cell_type": "code",
   "execution_count": 9,
   "id": "d0bce35c",
   "metadata": {},
   "outputs": [],
   "source": [
    "# prepare Images, and class Arrays\n",
    "def getDataSet(setType,isDL): # 'Training' for Training dataset , 'Testing' for Testing data set\n",
    "    imgs = []\n",
    "    lbls = []\n",
    "    df = pd.DataFrame(None)\n",
    "    \n",
    "    if setType =='Training':\n",
    "        df = dtTraining.copy()\n",
    "    elif setType=='Test':\n",
    "        df = dtTest.copy()\n",
    "    elif setType=='Prediction':\n",
    "        df = dtPred.copy()\n",
    "\n",
    "    for index,row in df.iterrows():\n",
    "        lbls.append(row['ClassId'])\n",
    "        try:\n",
    "            imageFilePath = os.path.join(ImagesRoot_path, row['ImagePath'])\n",
    "            img = load_img(imageFilePath, target_size=(64,64,1), \n",
    "                                 color_mode = \"grayscale\")\n",
    "            img = img_to_array(img) # to array\n",
    "            img = img/255 # Normalize\n",
    "            if isDL == False:\n",
    "                img = img.flatten() # for knn_classifier Model\n",
    "            imgs.append(img)\n",
    "\n",
    "        except Exception as e:\n",
    "            print(e)\n",
    "            \n",
    "    shuffle(imgs,lbls,random_state=255) #Shuffle the dataset\n",
    "\n",
    "    imgs = np.array(imgs)\n",
    "    lbls = np.array(lbls)\n",
    "    if isDL ==True:\n",
    "        lbls = to_categorical(lbls) # for keras CNN Model\n",
    "    return imgs, lbls"
   ]
  },
  {
   "cell_type": "code",
   "execution_count": 11,
   "id": "e74cc418",
   "metadata": {},
   "outputs": [
    {
     "name": "stdout",
     "output_type": "stream",
     "text": [
      "1293 Samples per Class\n"
     ]
    }
   ],
   "source": [
    "# Split our Dataset into Training, Test and Prediction\n",
    "# take 3 images per class for later prediction (96 images 3 x 32 class category)\n",
    "# split the remaining into 20% test and 80% Training\n",
    "\n",
    "dtTraining, dtTest,dtPred = SplitData(3,0.3)"
   ]
  },
  {
   "cell_type": "code",
   "execution_count": 12,
   "id": "2aef9439",
   "metadata": {},
   "outputs": [
    {
     "name": "stdout",
     "output_type": "stream",
     "text": [
      "Pred     96 \t # 3 per class\n",
      "Training 28896 \t # 903 per class\n",
      "Test     12384 \t # 387 per class\n",
      "---------------\n",
      "Sum      41376\n"
     ]
    }
   ],
   "source": [
    "print('Pred     {} \\t # {} per class'.format(dtPred.shape[0], dtPred.shape[0] //32))\n",
    "print('Training {} \\t # {} per class'.format(dtTraining.shape[0], dtTraining.shape[0] //32))\n",
    "print('Test     {} \\t # {} per class'.format(dtTest.shape[0], dtTest.shape[0] //32))\n",
    "print('---------------')\n",
    "print('Sum      {}'.format(dtTraining.shape[0] + dtTest.shape[0] + dtPred.shape[0]))"
   ]
  },
  {
   "cell_type": "code",
   "execution_count": 13,
   "id": "28e8e23d",
   "metadata": {},
   "outputs": [
    {
     "data": {
      "image/png": "[encoded data removed]",
      "text/plain": [
       "<Figure size 640x480 with 1 Axes>"
      ]
     },
     "metadata": {},
     "output_type": "display_data"
    }
   ],
   "source": [
    "ddata = {\"Training\":dtTraining.groupby(\"ClassId\").size(),\"Test\":dtTest.groupby(\"ClassId\").size()}\n",
    "iindex = range(32)\n",
    "\n",
    "ddataframe = pd.DataFrame(data=ddata, index= iindex)\n",
    "ddataframe.plot.bar(stacked= True, rot= 90, title='Training vs Test data')\n",
    "plt.show(block= True)"
   ]
  },
  {
   "cell_type": "code",
   "execution_count": 14,
   "id": "cef36561",
   "metadata": {},
   "outputs": [
    {
     "name": "stdout",
     "output_type": "stream",
     "text": [
      "Shape of Train Images:(28896, 4096) , Train Labels: (28896,)\n",
      "Shape of Test Images:(12384, 4096) , Test Labels: (12384,)\n",
      "Shape of Prediction Images:(96, 4096) , Prediction Labels: ?\n"
     ]
    }
   ],
   "source": [
    "X_train,y_train = getDataSet('Training',False)\n",
    "X_valid,y_valid = getDataSet('Test',False)\n",
    "X_pred,_ = getDataSet('Prediction',False)\n",
    "print(\"Shape of Train Images:{} , Train Labels: {}\".format(X_train.shape,y_train.shape))\n",
    "print(\"Shape of Test Images:{} , Test Labels: {}\".format(X_valid.shape,y_valid.shape))\n",
    "print(\"Shape of Prediction Images:{} , Prediction Labels: {}\".format(X_pred.shape,\"?\"))"
   ]
  },
  {
   "cell_type": "code",
   "execution_count": 15,
   "id": "15ac2c4a",
   "metadata": {},
   "outputs": [
    {
     "data": {
      "text/html": [
       "<style>#sk-container-id-1 {color: black;background-color: white;}#sk-container-id-1 pre{padding: 0;}#sk-container-id-1 div.sk-toggleable {background-color: white;}#sk-container-id-1 label.sk-toggleable__label {cursor: pointer;display: block;width: 100%;margin-bottom: 0;padding: 0.3em;box-sizing: border-box;text-align: center;}#sk-container-id-1 label.sk-toggleable__label-arrow:before {content: \"▸\";float: left;margin-right: 0.25em;color: #696969;}#sk-container-id-1 label.sk-toggleable__label-arrow:hover:before {color: black;}#sk-container-id-1 div.sk-estimator:hover label.sk-toggleable__label-arrow:before {color: black;}#sk-container-id-1 div.sk-toggleable__content {max-height: 0;max-width: 0;overflow: hidden;text-align: left;background-color: #f0f8ff;}#sk-container-id-1 div.sk-toggleable__content pre {margin: 0.2em;color: black;border-radius: 0.25em;background-color: #f0f8ff;}#sk-container-id-1 input.sk-toggleable__control:checked~div.sk-toggleable__content {max-height: 200px;max-width: 100%;overflow: auto;}#sk-container-id-1 input.sk-toggleable__control:checked~label.sk-toggleable__label-arrow:before {content: \"▾\";}#sk-container-id-1 div.sk-estimator input.sk-toggleable__control:checked~label.sk-toggleable__label {background-color: #d4ebff;}#sk-container-id-1 div.sk-label input.sk-toggleable__control:checked~label.sk-toggleable__label {background-color: #d4ebff;}#sk-container-id-1 input.sk-hidden--visually {border: 0;clip: rect(1px 1px 1px 1px);clip: rect(1px, 1px, 1px, 1px);height: 1px;margin: -1px;overflow: hidden;padding: 0;position: absolute;width: 1px;}#sk-container-id-1 div.sk-estimator {font-family: monospace;background-color: #f0f8ff;border: 1px dotted black;border-radius: 0.25em;box-sizing: border-box;margin-bottom: 0.5em;}#sk-container-id-1 div.sk-estimator:hover {background-color: #d4ebff;}#sk-container-id-1 div.sk-parallel-item::after {content: \"\";width: 100%;border-bottom: 1px solid gray;flex-grow: 1;}#sk-container-id-1 div.sk-label:hover label.sk-toggleable__label {background-color: #d4ebff;}#sk-container-id-1 div.sk-serial::before {content: \"\";position: absolute;border-left: 1px solid gray;box-sizing: border-box;top: 0;bottom: 0;left: 50%;z-index: 0;}#sk-container-id-1 div.sk-serial {display: flex;flex-direction: column;align-items: center;background-color: white;padding-right: 0.2em;padding-left: 0.2em;position: relative;}#sk-container-id-1 div.sk-item {position: relative;z-index: 1;}#sk-container-id-1 div.sk-parallel {display: flex;align-items: stretch;justify-content: center;background-color: white;position: relative;}#sk-container-id-1 div.sk-item::before, #sk-container-id-1 div.sk-parallel-item::before {content: \"\";position: absolute;border-left: 1px solid gray;box-sizing: border-box;top: 0;bottom: 0;left: 50%;z-index: -1;}#sk-container-id-1 div.sk-parallel-item {display: flex;flex-direction: column;z-index: 1;position: relative;background-color: white;}#sk-container-id-1 div.sk-parallel-item:first-child::after {align-self: flex-end;width: 50%;}#sk-container-id-1 div.sk-parallel-item:last-child::after {align-self: flex-start;width: 50%;}#sk-container-id-1 div.sk-parallel-item:only-child::after {width: 0;}#sk-container-id-1 div.sk-dashed-wrapped {border: 1px dashed gray;margin: 0 0.4em 0.5em 0.4em;box-sizing: border-box;padding-bottom: 0.4em;background-color: white;}#sk-container-id-1 div.sk-label label {font-family: monospace;font-weight: bold;display: inline-block;line-height: 1.2em;}#sk-container-id-1 div.sk-label-container {text-align: center;}#sk-container-id-1 div.sk-container {/* jupyter's `normalize.less` sets `[hidden] { display: none; }` but bootstrap.min.css set `[hidden] { display: none !important; }` so we also need the `!important` here to be able to override the default hidden behavior on the sphinx rendered scikit-learn.org. See: https://github.com/scikit-learn/scikit-learn/issues/21755 */display: inline-block !important;position: relative;}#sk-container-id-1 div.sk-text-repr-fallback {display: none;}</style><div id=\"sk-container-id-1\" class=\"sk-top-container\"><div class=\"sk-text-repr-fallback\"><pre>KNeighborsClassifier(n_jobs=-1)</pre><b>In a Jupyter environment, please rerun this cell to show the HTML representation or trust the notebook. <br />On GitHub, the HTML representation is unable to render, please try loading this page with nbviewer.org.</b></div><div class=\"sk-container\" hidden><div class=\"sk-item\"><div class=\"sk-estimator sk-toggleable\"><input class=\"sk-toggleable__control sk-hidden--visually\" id=\"sk-estimator-id-1\" type=\"checkbox\" checked><label for=\"sk-estimator-id-1\" class=\"sk-toggleable__label sk-toggleable__label-arrow\">KNeighborsClassifier</label><div class=\"sk-toggleable__content\"><pre>KNeighborsClassifier(n_jobs=-1)</pre></div></div></div></div></div>"
      ],
      "text/plain": [
       "KNeighborsClassifier(n_jobs=-1)"
      ]
     },
     "execution_count": 15,
     "metadata": {},
     "output_type": "execute_result"
    }
   ],
   "source": [
    "from sklearn.neighbors import KNeighborsClassifier\n",
    "knn_classifier = KNeighborsClassifier(algorithm='auto', leaf_size=30, metric='minkowski',\n",
    "                                      metric_params=None, n_jobs=-1, n_neighbors=5, p=2,weights='uniform')\n",
    "knn_classifier.fit(X_train, y_train)"
   ]
  },
  {
   "cell_type": "code",
   "execution_count": 16,
   "id": "cba1d79b",
   "metadata": {},
   "outputs": [
    {
     "name": "stdout",
     "output_type": "stream",
     "text": [
      "0.9499238648947951\n"
     ]
    }
   ],
   "source": [
    "knnScore = knn_classifier.score(X_train, y_train)\n",
    "print(knnScore)"
   ]
  },
  {
   "cell_type": "code",
   "execution_count": 17,
   "id": "9bc779fe",
   "metadata": {},
   "outputs": [
    {
     "data": {
      "text/plain": [
       "array([0, 0, 0, 0, 0, 0, 0, 0, 0, 0])"
      ]
     },
     "execution_count": 17,
     "metadata": {},
     "output_type": "execute_result"
    }
   ],
   "source": [
    "y_valid[0:10]"
   ]
  },
  {
   "cell_type": "code",
   "execution_count": 18,
   "id": "b54a0685",
   "metadata": {},
   "outputs": [
    {
     "data": {
      "text/plain": [
       "(4096,)"
      ]
     },
     "execution_count": 18,
     "metadata": {},
     "output_type": "execute_result"
    }
   ],
   "source": [
    "X_valid[0].shape"
   ]
  },
  {
   "cell_type": "code",
   "execution_count": 19,
   "id": "c72917f8",
   "metadata": {},
   "outputs": [],
   "source": [
    "y_pred=knn_classifier.predict(X_valid)"
   ]
  },
  {
   "cell_type": "code",
   "execution_count": 20,
   "id": "63ebddb8",
   "metadata": {},
   "outputs": [
    {
     "data": {
      "text/plain": [
       "array([0, 0, 0, 0, 0, 0, 0, 0, 0, 0])"
      ]
     },
     "execution_count": 20,
     "metadata": {},
     "output_type": "execute_result"
    }
   ],
   "source": [
    "y_pred[0:10]"
   ]
  },
  {
   "cell_type": "code",
   "execution_count": 21,
   "id": "d86675c9",
   "metadata": {},
   "outputs": [],
   "source": [
    "import pickle\n",
    "filename = 'knn_classifier_model.pkl'\n",
    "pickle.dump(knn_classifier, open(filename, 'wb'))"
   ]
  },
  {
   "cell_type": "markdown",
   "id": "21fa9849",
   "metadata": {},
   "source": [
    "# test"
   ]
  },
  {
   "cell_type": "code",
   "execution_count": 48,
   "id": "997aa369",
   "metadata": {},
   "outputs": [
    {
     "data": {
      "text/plain": [
       "0"
      ]
     },
     "execution_count": 48,
     "metadata": {},
     "output_type": "execute_result"
    }
   ],
   "source": [
    "# load the model from disk\n",
    "\n",
    "loaded_model = pickle.load(open('knn_classifier_model.pkl', 'rb'))\n",
    "img = load_img('ArASL_Database_54K/ain/AIN (2).JPG', target_size=(64,64,1), \n",
    "                                 color_mode = \"grayscale\")\n",
    "img = img_to_array(img) # to array\n",
    "img = img/255 # Normalize\n",
    "img = img.flatten()\n",
    "img.shape\n",
    "loaded_model.predict([img])[0]"
   ]
  },
  {
   "cell_type": "code",
   "execution_count": 49,
   "id": "cb978bcb",
   "metadata": {},
   "outputs": [
    {
     "data": {
      "text/plain": [
       "'عين'"
      ]
     },
     "execution_count": 49,
     "metadata": {},
     "output_type": "execute_result"
    }
   ],
   "source": [
    "Class_name=df_Classes.iloc[loaded_model.predict([img])[0]][1]\n",
    "Class_name"
   ]
  },
  {
   "cell_type": "code",
   "execution_count": 50,
   "id": "bdbbfc74",
   "metadata": {},
   "outputs": [
    {
     "data": {
      "image/png": "[encoded data removed]",
      "text/plain": [
       "<Figure size 640x480 with 1 Axes>"
      ]
     },
     "metadata": {},
     "output_type": "display_data"
    }
   ],
   "source": [
    "reshaped_text = arabic_reshaper.reshape(Class_name)\n",
    "artext = get_display(reshaped_text)\n",
    "\n",
    "fname = 'ArASL_Database_54K/ain/AIN (1).JPG'\n",
    "image = Image.open(fname).convert(\"L\")\n",
    "arr = np.asarray(image)\n",
    "plt.imshow(arr, cmap='gray', vmin=0, vmax=255)\n",
    "plt.title(artext)\n",
    "plt.show()"
   ]
  },
  {
   "cell_type": "code",
   "execution_count": null,
   "id": "bc0d1bab",
   "metadata": {},
   "outputs": [],
   "source": []
  }
 ],
 "metadata": {
  "kernelspec": {
   "display_name": "myenv",
   "language": "python",
   "name": "myenv"
  },
  "language_info": {
   "codemirror_mode": {
    "name": "ipython",
    "version": 3
   },
   "file_extension": ".py",
   "mimetype": "text/x-python",
   "name": "python",
   "nbconvert_exporter": "python",
   "pygments_lexer": "ipython3",
   "version": "3.10.4"
  }
 },
 "nbformat": 4,
 "nbformat_minor": 5
}
